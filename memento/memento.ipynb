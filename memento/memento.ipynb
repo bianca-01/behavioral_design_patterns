{
 "cells": [
  {
   "cell_type": "code",
   "execution_count": 41,
   "metadata": {},
   "outputs": [],
   "source": [
    "from datetime import datetime as dt\n",
    "import copy"
   ]
  },
  {
   "cell_type": "code",
   "execution_count": 42,
   "metadata": {},
   "outputs": [],
   "source": [
    "def ast():\n",
    "    print('-' * 75)"
   ]
  },
  {
   "cell_type": "markdown",
   "metadata": {},
   "source": [
    "## Originador\n",
    "\n",
    "O originador é o objeto que possui suas características com o complemento das funções de salvar e restaurar."
   ]
  },
  {
   "cell_type": "code",
   "execution_count": 43,
   "metadata": {},
   "outputs": [],
   "source": [
    "class Originador():\n",
    "\n",
    "    def __init__(self, expressao):\n",
    "        self._expressao = expressao\n",
    "        self._zelador = Zelador()\n",
    "        self.salvar('Criacao do objeto expressao.')\n",
    "    \n",
    "    # ----- Propertys e Setters --------- #\n",
    "\n",
    "    @property\n",
    "    def expressao(self):\n",
    "        return self._expressao\n",
    "\n",
    "    @expressao.setter\n",
    "    def expressao(self, expressao):\n",
    "        self._expressao = expressao\n",
    "\n",
    "    @property\n",
    "    def zelador(self):\n",
    "        return self._zelador\n",
    "\n",
    "    @zelador.setter\n",
    "    def zelador(self, zelador):\n",
    "        self._zelador = zelador\n",
    "\n",
    "    # ------------- Métodos da Expressao -------------- #\n",
    "       \n",
    "    def preencher(self, lista, result):\n",
    "        self.expressao = f'{result}'\n",
    "        for i in range(3, len(lista)):\n",
    "            self.expressao = (f'{self.expressao} {lista[i]}')\n",
    "\n",
    "    def calcular(self, a, sinal, b):\n",
    "        return (a + b) if sinal == '+' else (a - b) \n",
    "\n",
    "    def resolver(self):\n",
    "        lista = self.expressao.split(' ') # Organizo tudo em uma lista\n",
    "        if len(lista) > 1:\n",
    "            result = self.calcular( int(lista[0]), lista[1], int(lista[2]) )\n",
    "            self.preencher(lista, result)\n",
    "            self.salvar(f'Foi resolvido a operacao {lista[0]} {lista[1]} {lista[2]} = {result}')\n",
    "            retorno = True\n",
    "        else:\n",
    "            retorno = False\n",
    "        return retorno\n",
    "    \n",
    "    def resolverTudo(self):\n",
    "        while self.resolver() == True: \n",
    "            pass\n",
    "\n",
    "    def adicionar(self, sinal, valor):\n",
    "        self.expressao += (f' {sinal} {valor}')\n",
    "        d = f'Foi adicionado: {sinal} {valor} a expressao'\n",
    "        self.salvar(d)\n",
    "\n",
    "    # ------------- Métodos do estado -------------- #\n",
    "\n",
    "    def salvar(self, descricao):\n",
    "        a = Memento(self, descricao)\n",
    "        self.zelador.salvar( a ) # Salva uma cópia do estado atual do Originador no zelador.\n",
    "\n",
    "    def restaurar(self):\n",
    "        ant = self.zelador.restaurar()\n",
    "        if ant != False:\n",
    "            self.expressao = ant.expressao\n",
    "        else:\n",
    "            print('Você está no memento inicial.')"
   ]
  },
  {
   "cell_type": "markdown",
   "metadata": {},
   "source": [
    "## Memento\n",
    "\n",
    "O memento é o objeto que faz uma cópia do estado atual do objeto originador."
   ]
  },
  {
   "cell_type": "code",
   "execution_count": 44,
   "metadata": {},
   "outputs": [],
   "source": [
    "class Memento():\n",
    "\n",
    "    def __init__(self, estado, descricao):\n",
    "        self._estado = copy.deepcopy(estado)\n",
    "        self._descricao = descricao\n",
    "        self._data = dt.now()\n",
    "    \n",
    "    # -------- Propertys e Setters --------- #\n",
    "\n",
    "    @property\n",
    "    def estado(self):\n",
    "        return self._estado\n",
    "    \n",
    "    @estado.setter\n",
    "    def estado(self, estado):\n",
    "        self._estado = estado\n",
    "\n",
    "    @property\n",
    "    def descricao(self):\n",
    "        return self._descricao\n",
    "    \n",
    "    @descricao.setter\n",
    "    def descricao(self, descricao):\n",
    "        self._descricao = descricao\n",
    "\n",
    "    @property\n",
    "    def data(self):\n",
    "        return self._data\n",
    "    \n",
    "    @data.setter\n",
    "    def data(self, data):\n",
    "        self._data = data"
   ]
  },
  {
   "cell_type": "markdown",
   "metadata": {},
   "source": [
    "## Zelador\n",
    "\n",
    "O zelador é o objeto que gerencia a pilha de mementos."
   ]
  },
  {
   "cell_type": "code",
   "execution_count": 45,
   "metadata": {},
   "outputs": [],
   "source": [
    "class Zelador():\n",
    "\n",
    "    def __init__(self):\n",
    "        self._mementos = []\n",
    "    \n",
    "    # ----- Propertys e Setters --------- #\n",
    "\n",
    "    @property\n",
    "    def mementos(self):\n",
    "        return self._mementos\n",
    "\n",
    "    @mementos.setter\n",
    "    def mementos(self, mementos):\n",
    "        self._mementos = mementos\n",
    "\n",
    "    # ---------- Métodos ---------------- #\n",
    "\n",
    "    def salvar(self, memento):\n",
    "        self.mementos.append(memento)\n",
    "\n",
    "    def restaurar(self):\n",
    "        # retorna o estado se ainda houver algum estado na pilha\n",
    "        # Senão: retorna False\n",
    "        if len(self.mementos) > 0:\n",
    "            r = self.mementos[ len(self.mementos) - 1 ].estado\n",
    "            self.mementos.pop()\n",
    "        else:\n",
    "            r = False\n",
    "        return r\n",
    "\n",
    "    def historico(self):\n",
    "        if len(self.mementos) > 0:\n",
    "            print('\\n'); ast(); print('Histórico:'); ast()\n",
    "            for i in range( len(self.mementos)-1, -1, -1):\n",
    "                print(f'Memento:........{i+1}º'); \n",
    "                print(f'Data:...........{self.mementos[i].data.date()} {self.mementos[i].data.time()}')\n",
    "                print(f'Descricao:......{self.mementos[i].descricao}')\n",
    "                print(f'Expressao:......{self.mementos[i].estado.expressao}'); ast()\n",
    "        else:\n",
    "            print('Não há mementos salvos.')\n",
    "        print()"
   ]
  },
  {
   "cell_type": "markdown",
   "metadata": {},
   "source": [
    "## Testes"
   ]
  },
  {
   "cell_type": "code",
   "execution_count": 46,
   "metadata": {},
   "outputs": [
    {
     "data": {
      "text/plain": [
       "'100 + 200 - 300 + 400 - 500'"
      ]
     },
     "execution_count": 46,
     "metadata": {},
     "output_type": "execute_result"
    }
   ],
   "source": [
    "# Criação do originador\n",
    "expressao = Originador('100 + 200 - 300 + 400 - 500')\n",
    "expressao.expressao"
   ]
  },
  {
   "cell_type": "code",
   "execution_count": 47,
   "metadata": {},
   "outputs": [
    {
     "name": "stdout",
     "output_type": "stream",
     "text": [
      "\n",
      "\n",
      "---------------------------------------------------------------------------\n",
      "Histórico:\n",
      "---------------------------------------------------------------------------\n",
      "Memento:........1º\n",
      "Data:...........2022-03-19 13:41:37.697418\n",
      "Descricao:......Criacao do objeto expressao.\n",
      "Expressao:......100 + 200 - 300 + 400 - 500\n",
      "---------------------------------------------------------------------------\n",
      "\n"
     ]
    }
   ],
   "source": [
    "expressao.zelador.historico()"
   ]
  },
  {
   "cell_type": "code",
   "execution_count": 48,
   "metadata": {},
   "outputs": [
    {
     "name": "stdout",
     "output_type": "stream",
     "text": [
      "\n",
      " 100 + 200 - 300 + 400 - 500 + 2000\n",
      "\n",
      "\n",
      "---------------------------------------------------------------------------\n",
      "Histórico:\n",
      "---------------------------------------------------------------------------\n",
      "Memento:........2º\n",
      "Data:...........2022-03-19 13:41:37.763875\n",
      "Descricao:......Foi adicionado: + 2000 a expressao\n",
      "Expressao:......100 + 200 - 300 + 400 - 500 + 2000\n",
      "---------------------------------------------------------------------------\n",
      "Memento:........1º\n",
      "Data:...........2022-03-19 13:41:37.697418\n",
      "Descricao:......Criacao do objeto expressao.\n",
      "Expressao:......100 + 200 - 300 + 400 - 500\n",
      "---------------------------------------------------------------------------\n",
      "\n"
     ]
    }
   ],
   "source": [
    "# Adicionar um novo sinal e valor na expressão\n",
    "expressao.adicionar('+','2000')\n",
    "print('\\n', expressao.expressao); expressao.zelador.historico()"
   ]
  },
  {
   "cell_type": "code",
   "execution_count": 49,
   "metadata": {},
   "outputs": [
    {
     "name": "stdout",
     "output_type": "stream",
     "text": [
      "\n",
      " 300 - 300 + 400 - 500 + 2000\n",
      "\n",
      "\n",
      "---------------------------------------------------------------------------\n",
      "Histórico:\n",
      "---------------------------------------------------------------------------\n",
      "Memento:........3º\n",
      "Data:...........2022-03-19 13:41:37.800005\n",
      "Descricao:......Foi resolvido a operacao 100 + 200 = 300\n",
      "Expressao:......300 - 300 + 400 - 500 + 2000\n",
      "---------------------------------------------------------------------------\n",
      "Memento:........2º\n",
      "Data:...........2022-03-19 13:41:37.763875\n",
      "Descricao:......Foi adicionado: + 2000 a expressao\n",
      "Expressao:......100 + 200 - 300 + 400 - 500 + 2000\n",
      "---------------------------------------------------------------------------\n",
      "Memento:........1º\n",
      "Data:...........2022-03-19 13:41:37.697418\n",
      "Descricao:......Criacao do objeto expressao.\n",
      "Expressao:......100 + 200 - 300 + 400 - 500\n",
      "---------------------------------------------------------------------------\n",
      "\n"
     ]
    }
   ],
   "source": [
    "# Resolver dois termos da expressão\n",
    "expressao.resolver()\n",
    "print('\\n', expressao.expressao); expressao.zelador.historico()"
   ]
  },
  {
   "cell_type": "code",
   "execution_count": 50,
   "metadata": {},
   "outputs": [
    {
     "name": "stdout",
     "output_type": "stream",
     "text": [
      "\n",
      "Expressão:  300 - 300 + 400 - 500 + 2000\n",
      "\n",
      "\n",
      "---------------------------------------------------------------------------\n",
      "Histórico:\n",
      "---------------------------------------------------------------------------\n",
      "Memento:........2º\n",
      "Data:...........2022-03-19 13:41:37.763875\n",
      "Descricao:......Foi adicionado: + 2000 a expressao\n",
      "Expressao:......100 + 200 - 300 + 400 - 500 + 2000\n",
      "---------------------------------------------------------------------------\n",
      "Memento:........1º\n",
      "Data:...........2022-03-19 13:41:37.697418\n",
      "Descricao:......Criacao do objeto expressao.\n",
      "Expressao:......100 + 200 - 300 + 400 - 500\n",
      "---------------------------------------------------------------------------\n",
      "\n"
     ]
    }
   ],
   "source": [
    "expressao.restaurar()\n",
    "print('\\nExpressão: ', expressao.expressao)\n",
    "expressao.zelador.historico()"
   ]
  },
  {
   "cell_type": "code",
   "execution_count": 51,
   "metadata": {},
   "outputs": [
    {
     "name": "stdout",
     "output_type": "stream",
     "text": [
      "\n",
      "Expressão:  100 + 200 - 300 + 400 - 500 + 2000\n",
      "\n",
      "\n",
      "---------------------------------------------------------------------------\n",
      "Histórico:\n",
      "---------------------------------------------------------------------------\n",
      "Memento:........1º\n",
      "Data:...........2022-03-19 13:41:37.697418\n",
      "Descricao:......Criacao do objeto expressao.\n",
      "Expressao:......100 + 200 - 300 + 400 - 500\n",
      "---------------------------------------------------------------------------\n",
      "\n"
     ]
    }
   ],
   "source": [
    "expressao.restaurar()\n",
    "print('\\nExpressão: ', expressao.expressao)\n",
    "expressao.zelador.historico()"
   ]
  },
  {
   "cell_type": "code",
   "execution_count": 52,
   "metadata": {},
   "outputs": [
    {
     "name": "stdout",
     "output_type": "stream",
     "text": [
      "\n",
      "Expressão:  100 + 200 - 300 + 400 - 500\n",
      "Não há mementos salvos.\n",
      "\n"
     ]
    }
   ],
   "source": [
    "expressao.restaurar()\n",
    "print('\\nExpressão: ', expressao.expressao)\n",
    "expressao.zelador.historico()"
   ]
  },
  {
   "cell_type": "code",
   "execution_count": 53,
   "metadata": {},
   "outputs": [
    {
     "name": "stdout",
     "output_type": "stream",
     "text": [
      "Você está no memento inicial.\n"
     ]
    }
   ],
   "source": [
    "expressao.restaurar()"
   ]
  }
 ],
 "metadata": {
  "interpreter": {
   "hash": "916dbcbb3f70747c44a77c7bcd40155683ae19c65e1c03b4aa3499c5328201f1"
  },
  "kernelspec": {
   "display_name": "Python 3.8.10 64-bit",
   "language": "python",
   "name": "python3"
  },
  "language_info": {
   "codemirror_mode": {
    "name": "ipython",
    "version": 3
   },
   "file_extension": ".py",
   "mimetype": "text/x-python",
   "name": "python",
   "nbconvert_exporter": "python",
   "pygments_lexer": "ipython3",
   "version": "3.8.10"
  },
  "orig_nbformat": 4
 },
 "nbformat": 4,
 "nbformat_minor": 2
}

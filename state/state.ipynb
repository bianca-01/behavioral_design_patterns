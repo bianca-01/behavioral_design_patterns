{
 "cells": [
  {
   "cell_type": "markdown",
   "metadata": {},
   "source": [
    "# State Pattern"
   ]
  },
  {
   "cell_type": "markdown",
   "metadata": {},
   "source": [
    "## Contexto 📄\n",
    "Um rádio possui dois tipos de estações AM e FM,  que vão ser representadas pelas classes AmState e FMState, para alternar entre as duas estações, pode-se usar uma chave."
   ]
  },
  {
   "cell_type": "markdown",
   "metadata": {},
   "source": [
    "# Classes 💻"
   ]
  },
  {
   "cell_type": "markdown",
   "metadata": {},
   "source": [
    "## Classe State"
   ]
  },
  {
   "cell_type": "code",
   "execution_count": 16,
   "metadata": {},
   "outputs": [],
   "source": [
    "class State: \n",
    "    def scan(self): \n",
    "        self.pos += 1\n",
    "        if self.pos == len(self.stations): \n",
    "            self.pos = 0\n",
    "        print(\"Visiting... Station is {} {}\".format(self.stations[self.pos], self.name))"
   ]
  },
  {
   "cell_type": "markdown",
   "metadata": {},
   "source": [
    "## Classe AmState"
   ]
  },
  {
   "cell_type": "code",
   "execution_count": 17,
   "metadata": {},
   "outputs": [],
   "source": [
    "class AmState(State): \n",
    "    def __init__(self, radio): \n",
    "        self.radio = radio \n",
    "        self.stations = [\"1250\", \"1380\", \"1510\"] \n",
    "        self.pos = 0\n",
    "        self.name = \"AM\"\n",
    "    \n",
    "    def toggle_amfm(self): \n",
    "        print(\"Switching to FM\") \n",
    "        self.radio.state = self.radio.fmstate"
   ]
  },
  {
   "cell_type": "markdown",
   "metadata": {},
   "source": [
    "## Classe FmState"
   ]
  },
  {
   "cell_type": "code",
   "execution_count": 18,
   "metadata": {},
   "outputs": [],
   "source": [
    "class FmState(State): \n",
    "    def __init__(self, radio): \n",
    "        self.radio = radio \n",
    "        self.stations = [\"81.3\", \"89.1\", \"103.9\"] \n",
    "        self.pos = 0\n",
    "        self.name = \"FM\"\n",
    "  \n",
    "    \n",
    "    def toggle_amfm(self): \n",
    "        print(\"Switching to AM\") \n",
    "        self.radio.state = self.radio.amstate "
   ]
  },
  {
   "cell_type": "markdown",
   "metadata": {},
   "source": [
    "## Classe Radio"
   ]
  },
  {
   "cell_type": "code",
   "execution_count": 19,
   "metadata": {},
   "outputs": [],
   "source": [
    "class Radio: \n",
    "    def __init__(self): \n",
    "        self.fmstate = FmState(self) \n",
    "        self.amstate = AmState(self) \n",
    "        self.state = self.fmstate \n",
    "  \n",
    "    \n",
    "    def toggle_amfm(self): \n",
    "        self.state.toggle_amfm() \n",
    "  \n",
    "    \n",
    "    def scan(self): \n",
    "        self.state.scan() "
   ]
  },
  {
   "cell_type": "markdown",
   "metadata": {},
   "source": [
    "# Implementação"
   ]
  },
  {
   "cell_type": "code",
   "execution_count": 20,
   "metadata": {},
   "outputs": [],
   "source": [
    "radio = Radio() \n",
    "actions = [radio.scan] * 3 + [radio.toggle_amfm] + [radio.scan] * 3\n",
    "actions *= 2"
   ]
  },
  {
   "cell_type": "code",
   "execution_count": 21,
   "metadata": {},
   "outputs": [
    {
     "name": "stdout",
     "output_type": "stream",
     "text": [
      "Visiting... Station is 89.1 FM\n",
      "Visiting... Station is 103.9 FM\n",
      "Visiting... Station is 81.3 FM\n",
      "Switching to AM\n",
      "Visiting... Station is 1380 AM\n",
      "Visiting... Station is 1510 AM\n",
      "Visiting... Station is 1250 AM\n",
      "Visiting... Station is 1380 AM\n",
      "Visiting... Station is 1510 AM\n",
      "Visiting... Station is 1250 AM\n",
      "Switching to FM\n",
      "Visiting... Station is 89.1 FM\n",
      "Visiting... Station is 103.9 FM\n",
      "Visiting... Station is 81.3 FM\n"
     ]
    }
   ],
   "source": [
    "for action in actions: \n",
    "    action() "
   ]
  },
  {
   "cell_type": "code",
   "execution_count": null,
   "metadata": {},
   "outputs": [],
   "source": []
  }
 ],
 "metadata": {
  "kernelspec": {
   "display_name": "Python 3",
   "language": "python",
   "name": "python3"
  },
  "language_info": {
   "codemirror_mode": {
    "name": "ipython",
    "version": 3
   },
   "file_extension": ".py",
   "mimetype": "text/x-python",
   "name": "python",
   "nbconvert_exporter": "python",
   "pygments_lexer": "ipython3",
   "version": "3.8.10"
  }
 },
 "nbformat": 4,
 "nbformat_minor": 4
}

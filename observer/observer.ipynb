{
 "cells": [
  {
   "cell_type": "markdown",
   "metadata": {
    "tags": []
   },
   "source": [
    "# Observer Pattern 🧐"
   ]
  },
  {
   "cell_type": "markdown",
   "metadata": {},
   "source": [
    "## Contexto 📄\n",
    "Maria é uma idosa que mora sozinha no centro da cidade, um dos seus passatempos é conversar pelo whatsapp com suas amigas sobre diversos assuntos, incluíndo a vida pessoal dos seus vizinhos, qualquer situação que aconteça em sua vidas, como chegar tarde em casa ou discussões com filhos, ela envia um audio para suas amigas detalhando o acontecimento. "
   ]
  },
  {
   "cell_type": "markdown",
   "metadata": {
    "tags": []
   },
   "source": [
    "# Classes 💻"
   ]
  },
  {
   "cell_type": "markdown",
   "metadata": {},
   "source": [
    "## Classe Observador (Maria)"
   ]
  },
  {
   "cell_type": "code",
   "execution_count": 16,
   "metadata": {},
   "outputs": [],
   "source": [
    "class Observer():\n",
    "    def __init__(self, idade):\n",
    "        self._idade = idade\n",
    "        self._contatos = []\n",
    "    \n",
    "    @property\n",
    "    def idade(self):\n",
    "        return self._idade\n",
    "    \n",
    "    @idade.setter\n",
    "    def idade(self,i):\n",
    "        self._idade = i\n",
    "    \n",
    "    @property\n",
    "    def contatos(self):\n",
    "        return self._contatos\n",
    "    \n",
    "    @contatos.setter\n",
    "    def contatos(self,c):\n",
    "        self._contatos = c\n",
    "    \n",
    "    def addContato(self, contato):\n",
    "        self._contatos.append(contato)\n",
    "    \n",
    "    def avisarAmiga(self, msg):\n",
    "        for amiga in self._contatos:\n",
    "            amiga.msgAud(msg)"
   ]
  },
  {
   "cell_type": "markdown",
   "metadata": {},
   "source": [
    "## Classe Vizinho"
   ]
  },
  {
   "cell_type": "code",
   "execution_count": 17,
   "metadata": {},
   "outputs": [],
   "source": [
    "class Vizinho():\n",
    "    def __init__(self,nome,idade):\n",
    "        self._nome = nome\n",
    "        self._idade = idade\n",
    "        self._acoes = []\n",
    "        \n",
    "    @property\n",
    "    def nome(self):\n",
    "        return self._nome\n",
    "    \n",
    "    @nome.setter\n",
    "    def nome(self, n):\n",
    "        self._nome = n\n",
    "        \n",
    "    @property\n",
    "    def idade(self):\n",
    "        return self._idade\n",
    "    \n",
    "    @idade.setter\n",
    "    def idade(self,i):\n",
    "        self._idade = i\n",
    "        \n",
    "    @property\n",
    "    def acoes(self):\n",
    "        return self._acoes\n",
    "    \n",
    "    @acoes.setter\n",
    "    def acoes(self,a):\n",
    "        self._acoes = a\n",
    "\n",
    "    def addAcao(self,acao):\n",
    "        self._acoes.append(acao)\n",
    "        "
   ]
  },
  {
   "cell_type": "markdown",
   "metadata": {},
   "source": [
    "## Classe Amiga"
   ]
  },
  {
   "cell_type": "code",
   "execution_count": 18,
   "metadata": {},
   "outputs": [],
   "source": [
    "class Amiga():\n",
    "    def __init__(self,nome,idade):\n",
    "        self._nome = nome\n",
    "        self._idade = idade\n",
    "        self._msgs = []\n",
    "    \n",
    "    @property\n",
    "    def nome(self):\n",
    "        return self._nome\n",
    "    \n",
    "    @nome.setter\n",
    "    def nome(self, n):\n",
    "        self._nome = n\n",
    "    \n",
    "    @property\n",
    "    def idade(self):\n",
    "        return self._idade\n",
    "    \n",
    "    @idade.setter\n",
    "    def idade(self,i):\n",
    "        self._idade = i\n",
    "    \n",
    "    @property\n",
    "    def msgs(self):\n",
    "        return self._msgs\n",
    "    \n",
    "    @msgs.setter\n",
    "    def msgs(self,m):\n",
    "        self._msgs = m\n",
    "        \n",
    "    def msgAud(self, contAudio):\n",
    "        self._msgs.append(contAudio)\n",
    "        print(contAudio)"
   ]
  },
  {
   "cell_type": "markdown",
   "metadata": {},
   "source": [
    "# Implementação"
   ]
  },
  {
   "cell_type": "code",
   "execution_count": 19,
   "metadata": {},
   "outputs": [],
   "source": [
    "#instanciando o observador\n",
    "Maria = Observer(65)"
   ]
  },
  {
   "cell_type": "code",
   "execution_count": 20,
   "metadata": {},
   "outputs": [],
   "source": [
    "v1 = Vizinho('João',30)\n",
    "v2 = Vizinho('Isabel',42)\n",
    "v3 = Vizinho('Antonia',35)"
   ]
  },
  {
   "cell_type": "code",
   "execution_count": 21,
   "metadata": {},
   "outputs": [],
   "source": [
    "amg1 = Amiga('Josefa',70)\n",
    "amg2 = Amiga('Ana',65)\n",
    "amg3 = Amiga('Helena',75)"
   ]
  },
  {
   "cell_type": "code",
   "execution_count": 22,
   "metadata": {},
   "outputs": [],
   "source": [
    "Maria.addContato(amg1)\n",
    "Maria.addContato(amg2)\n",
    "Maria.addContato(amg3)"
   ]
  },
  {
   "cell_type": "code",
   "execution_count": 23,
   "metadata": {},
   "outputs": [
    {
     "name": "stdout",
     "output_type": "stream",
     "text": [
      "Josefa\n",
      "Ana\n",
      "Helena\n"
     ]
    }
   ],
   "source": [
    "for contato in Maria.contatos:\n",
    "    print(contato.nome)"
   ]
  },
  {
   "cell_type": "code",
   "execution_count": 24,
   "metadata": {},
   "outputs": [
    {
     "name": "stdout",
     "output_type": "stream",
     "text": [
      "Mulher João Chegou tarde em casa de novo\n",
      "Mulher João Chegou tarde em casa de novo\n",
      "Mulher João Chegou tarde em casa de novo\n"
     ]
    }
   ],
   "source": [
    "acao = 'Chegou tarde em casa'\n",
    "v1.addAcao(acao)\n",
    "Maria.avisarAmiga(f'Mulher {v1.nome} {acao} de novo')"
   ]
  },
  {
   "cell_type": "code",
   "execution_count": 25,
   "metadata": {},
   "outputs": [
    {
     "name": "stdout",
     "output_type": "stream",
     "text": [
      "Aqui pra nós, Isabel separou do marido ontem\n",
      "Aqui pra nós, Isabel separou do marido ontem\n",
      "Aqui pra nós, Isabel separou do marido ontem\n"
     ]
    }
   ],
   "source": [
    "acao = \"separou do marido\"\n",
    "v1.addAcao(acao)\n",
    "Maria.avisarAmiga(f'Aqui pra nós, {v2.nome} {acao} ontem')"
   ]
  },
  {
   "cell_type": "code",
   "execution_count": 26,
   "metadata": {},
   "outputs": [
    {
     "name": "stdout",
     "output_type": "stream",
     "text": [
      "Eu não gosto de falar da vida de ninguem, mas Antonia tava Arrumando confusão com os irmãos por causa de herança \n",
      "Eu não gosto de falar da vida de ninguem, mas Antonia tava Arrumando confusão com os irmãos por causa de herança \n",
      "Eu não gosto de falar da vida de ninguem, mas Antonia tava Arrumando confusão com os irmãos por causa de herança \n"
     ]
    }
   ],
   "source": [
    "acao = 'Arrumando confusão com os irmãos por causa de herança'\n",
    "v3.addAcao(acao)\n",
    "Maria.avisarAmiga(f'Eu não gosto de falar da vida de ninguem, mas {v3.nome} tava {acao} ')"
   ]
  },
  {
   "cell_type": "code",
   "execution_count": 27,
   "metadata": {},
   "outputs": [
    {
     "data": {
      "text/plain": [
       "['Mulher João Chegou tarde em casa de novo',\n",
       " 'Aqui pra nós, Isabel separou do marido ontem',\n",
       " 'Eu não gosto de falar da vida de ninguem, mas Antonia tava Arrumando confusão com os irmãos por causa de herança ']"
      ]
     },
     "execution_count": 27,
     "metadata": {},
     "output_type": "execute_result"
    }
   ],
   "source": [
    "amg1.msgs"
   ]
  },
  {
   "cell_type": "code",
   "execution_count": null,
   "metadata": {},
   "outputs": [],
   "source": []
  }
 ],
 "metadata": {
  "kernelspec": {
   "display_name": "Python 3",
   "language": "python",
   "name": "python3"
  },
  "language_info": {
   "codemirror_mode": {
    "name": "ipython",
    "version": 3
   },
   "file_extension": ".py",
   "mimetype": "text/x-python",
   "name": "python",
   "nbconvert_exporter": "python",
   "pygments_lexer": "ipython3",
   "version": "3.8.10"
  }
 },
 "nbformat": 4,
 "nbformat_minor": 4
}
